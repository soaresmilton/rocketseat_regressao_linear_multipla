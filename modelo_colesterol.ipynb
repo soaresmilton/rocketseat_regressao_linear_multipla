{
 "cells": [
  {
   "cell_type": "code",
   "execution_count": 1,
   "id": "b224189a",
   "metadata": {},
   "outputs": [],
   "source": [
    "import pandas as pd\n",
    "import seaborn as sns\n",
    "import matplotlib.pyplot as plt"
   ]
  },
  {
   "cell_type": "code",
   "execution_count": 2,
   "id": "d757510b",
   "metadata": {},
   "outputs": [
    {
     "name": "stdout",
     "output_type": "stream",
     "text": [
      "<class 'pandas.core.frame.DataFrame'>\n",
      "RangeIndex: 1000 entries, 0 to 999\n",
      "Data columns (total 8 columns):\n",
      " #   Column              Non-Null Count  Dtype  \n",
      "---  ------              --------------  -----  \n",
      " 0   Id                  1000 non-null   int64  \n",
      " 1   Grupo Sanguíneo     996 non-null    object \n",
      " 2   Fumante             997 non-null    object \n",
      " 3   Nível de Atividade  996 non-null    object \n",
      " 4   Idade               997 non-null    float64\n",
      " 5   Peso                997 non-null    float64\n",
      " 6   Altura              997 non-null    float64\n",
      " 7   Colesterol          1000 non-null   float64\n",
      "dtypes: float64(4), int64(1), object(3)\n",
      "memory usage: 62.6+ KB\n"
     ]
    }
   ],
   "source": [
    "df_colesterol = pd.read_csv('./dataset/dataset_colesterol.csv')\n",
    "df_colesterol.info()"
   ]
  },
  {
   "cell_type": "code",
   "execution_count": 3,
   "id": "42e7a827",
   "metadata": {},
   "outputs": [],
   "source": [
    "# Remover coluna ID\n",
    "df_colesterol.drop(columns=['Id'], axis=1, inplace=True)"
   ]
  },
  {
   "cell_type": "code",
   "execution_count": 4,
   "id": "ad67af21",
   "metadata": {},
   "outputs": [],
   "source": [
    "# Renomear colunas para facilitar a análise\n",
    "df_colesterol.columns = [\n",
    "    'grupo_sanguineo',\n",
    "    'fumante',\n",
    "    'nivel_atividade_fisica',\n",
    "    'idade',\n",
    "    'peso',\n",
    "    'altura',\n",
    "    'nivel_colesterol'\n",
    "]"
   ]
  },
  {
   "cell_type": "code",
   "execution_count": 5,
   "id": "6d34c15f",
   "metadata": {},
   "outputs": [],
   "source": [
    "# Copiar DF para DF específico para EDA\n",
    "df_colesteral_eda = df_colesterol.copy()"
   ]
  },
  {
   "cell_type": "code",
   "execution_count": 6,
   "id": "4e2c0e24",
   "metadata": {},
   "outputs": [],
   "source": [
    "# Copiar DF para DF específico para Bucketing\n",
    "df_colesteral_bucketing = df_colesterol.copy()"
   ]
  },
  {
   "cell_type": "markdown",
   "id": "ea4ada04",
   "metadata": {},
   "source": [
    "### Análise Exploratória dos Dados"
   ]
  },
  {
   "cell_type": "code",
   "execution_count": 7,
   "id": "ffb51bd3",
   "metadata": {},
   "outputs": [
    {
     "data": {
      "application/vnd.microsoft.datawrangler.viewer.v0+json": {
       "columns": [
        {
         "name": "index",
         "rawType": "int64",
         "type": "integer"
        },
        {
         "name": "grupo_sanguineo",
         "rawType": "object",
         "type": "string"
        },
        {
         "name": "fumante",
         "rawType": "object",
         "type": "string"
        },
        {
         "name": "nivel_atividade_fisica",
         "rawType": "object",
         "type": "string"
        },
        {
         "name": "idade",
         "rawType": "float64",
         "type": "float"
        },
        {
         "name": "peso",
         "rawType": "float64",
         "type": "float"
        },
        {
         "name": "altura",
         "rawType": "float64",
         "type": "float"
        },
        {
         "name": "nivel_colesterol",
         "rawType": "float64",
         "type": "float"
        }
       ],
       "ref": "68c188a3-1a70-451b-abf8-1fb1ff5752f3",
       "rows": [
        [
         "0",
         "B",
         "Sim",
         "Baixo",
         "33.0",
         "85.1",
         "186.0",
         "199.63"
        ],
        [
         "1",
         "A",
         "Não",
         "Moderado",
         "68.0",
         "105.0",
         "184.0",
         "236.98"
        ],
        [
         "2",
         "O",
         "Não",
         "Alto",
         "25.0",
         "64.8",
         "180.0",
         "161.79"
        ],
        [
         "3",
         "A",
         "Não",
         "Alto",
         "43.0",
         "120.2",
         "167.0",
         "336.24"
        ],
        [
         "4",
         "AB",
         "Não",
         "Baixo",
         "79.0",
         "88.5",
         "175.0",
         "226.23"
        ]
       ],
       "shape": {
        "columns": 7,
        "rows": 5
       }
      },
      "text/html": [
       "<div>\n",
       "<style scoped>\n",
       "    .dataframe tbody tr th:only-of-type {\n",
       "        vertical-align: middle;\n",
       "    }\n",
       "\n",
       "    .dataframe tbody tr th {\n",
       "        vertical-align: top;\n",
       "    }\n",
       "\n",
       "    .dataframe thead th {\n",
       "        text-align: right;\n",
       "    }\n",
       "</style>\n",
       "<table border=\"1\" class=\"dataframe\">\n",
       "  <thead>\n",
       "    <tr style=\"text-align: right;\">\n",
       "      <th></th>\n",
       "      <th>grupo_sanguineo</th>\n",
       "      <th>fumante</th>\n",
       "      <th>nivel_atividade_fisica</th>\n",
       "      <th>idade</th>\n",
       "      <th>peso</th>\n",
       "      <th>altura</th>\n",
       "      <th>nivel_colesterol</th>\n",
       "    </tr>\n",
       "  </thead>\n",
       "  <tbody>\n",
       "    <tr>\n",
       "      <th>0</th>\n",
       "      <td>B</td>\n",
       "      <td>Sim</td>\n",
       "      <td>Baixo</td>\n",
       "      <td>33.0</td>\n",
       "      <td>85.1</td>\n",
       "      <td>186.0</td>\n",
       "      <td>199.63</td>\n",
       "    </tr>\n",
       "    <tr>\n",
       "      <th>1</th>\n",
       "      <td>A</td>\n",
       "      <td>Não</td>\n",
       "      <td>Moderado</td>\n",
       "      <td>68.0</td>\n",
       "      <td>105.0</td>\n",
       "      <td>184.0</td>\n",
       "      <td>236.98</td>\n",
       "    </tr>\n",
       "    <tr>\n",
       "      <th>2</th>\n",
       "      <td>O</td>\n",
       "      <td>Não</td>\n",
       "      <td>Alto</td>\n",
       "      <td>25.0</td>\n",
       "      <td>64.8</td>\n",
       "      <td>180.0</td>\n",
       "      <td>161.79</td>\n",
       "    </tr>\n",
       "    <tr>\n",
       "      <th>3</th>\n",
       "      <td>A</td>\n",
       "      <td>Não</td>\n",
       "      <td>Alto</td>\n",
       "      <td>43.0</td>\n",
       "      <td>120.2</td>\n",
       "      <td>167.0</td>\n",
       "      <td>336.24</td>\n",
       "    </tr>\n",
       "    <tr>\n",
       "      <th>4</th>\n",
       "      <td>AB</td>\n",
       "      <td>Não</td>\n",
       "      <td>Baixo</td>\n",
       "      <td>79.0</td>\n",
       "      <td>88.5</td>\n",
       "      <td>175.0</td>\n",
       "      <td>226.23</td>\n",
       "    </tr>\n",
       "  </tbody>\n",
       "</table>\n",
       "</div>"
      ],
      "text/plain": [
       "  grupo_sanguineo fumante nivel_atividade_fisica  idade   peso  altura  \\\n",
       "0               B     Sim                  Baixo   33.0   85.1   186.0   \n",
       "1               A     Não               Moderado   68.0  105.0   184.0   \n",
       "2               O     Não                   Alto   25.0   64.8   180.0   \n",
       "3               A     Não                   Alto   43.0  120.2   167.0   \n",
       "4              AB     Não                  Baixo   79.0   88.5   175.0   \n",
       "\n",
       "   nivel_colesterol  \n",
       "0            199.63  \n",
       "1            236.98  \n",
       "2            161.79  \n",
       "3            336.24  \n",
       "4            226.23  "
      ]
     },
     "execution_count": 7,
     "metadata": {},
     "output_type": "execute_result"
    }
   ],
   "source": [
    "df_colesteral_eda.head()"
   ]
  },
  {
   "cell_type": "code",
   "execution_count": 8,
   "id": "80873520",
   "metadata": {},
   "outputs": [
    {
     "name": "stdout",
     "output_type": "stream",
     "text": [
      "['B' 'A' 'O' 'AB' nan]\n",
      "['Sim' 'Não' nan]\n",
      "['Baixo' 'Moderado' 'Alto' nan]\n"
     ]
    }
   ],
   "source": [
    "print(df_colesteral_eda.grupo_sanguineo.unique())\n",
    "print(df_colesteral_eda.fumante.unique())\n",
    "print(df_colesteral_eda.nivel_atividade_fisica.unique())"
   ]
  },
  {
   "cell_type": "code",
   "execution_count": 9,
   "id": "1fc66590",
   "metadata": {},
   "outputs": [
    {
     "data": {
      "application/vnd.microsoft.datawrangler.viewer.v0+json": {
       "columns": [
        {
         "name": "index",
         "rawType": "object",
         "type": "string"
        },
        {
         "name": "0",
         "rawType": "int64",
         "type": "integer"
        }
       ],
       "ref": "a9bf395f-8132-48be-a772-019bd7160619",
       "rows": [
        [
         "grupo_sanguineo",
         "4"
        ],
        [
         "fumante",
         "3"
        ],
        [
         "nivel_atividade_fisica",
         "4"
        ],
        [
         "idade",
         "3"
        ],
        [
         "peso",
         "3"
        ],
        [
         "altura",
         "3"
        ],
        [
         "nivel_colesterol",
         "0"
        ]
       ],
       "shape": {
        "columns": 1,
        "rows": 7
       }
      },
      "text/plain": [
       "grupo_sanguineo           4\n",
       "fumante                   3\n",
       "nivel_atividade_fisica    4\n",
       "idade                     3\n",
       "peso                      3\n",
       "altura                    3\n",
       "nivel_colesterol          0\n",
       "dtype: int64"
      ]
     },
     "execution_count": 9,
     "metadata": {},
     "output_type": "execute_result"
    }
   ],
   "source": [
    "# Detectar valores ausentes\n",
    "df_colesteral_eda.isna().sum()"
   ]
  },
  {
   "cell_type": "code",
   "execution_count": 10,
   "id": "b6e47bf0",
   "metadata": {},
   "outputs": [
    {
     "data": {
      "application/vnd.microsoft.datawrangler.viewer.v0+json": {
       "columns": [
        {
         "name": "index",
         "rawType": "object",
         "type": "string"
        },
        {
         "name": "idade",
         "rawType": "float64",
         "type": "float"
        },
        {
         "name": "peso",
         "rawType": "float64",
         "type": "float"
        },
        {
         "name": "altura",
         "rawType": "float64",
         "type": "float"
        },
        {
         "name": "nivel_colesterol",
         "rawType": "float64",
         "type": "float"
        }
       ],
       "ref": "e64bc65c-ebb0-497b-9184-5ae42a660f2f",
       "rows": [
        [
         "count",
         "997.0",
         "997.0",
         "997.0",
         "1000.0"
        ],
        [
         "mean",
         "49.20661985957874",
         "76.49669007021065",
         "174.88966900702107",
         "199.45326"
        ],
        [
         "std",
         "17.47670383730853",
         "21.439132086343758",
         "8.844703426661331",
         "50.6251516674642"
        ],
        [
         "min",
         "20.0",
         "15.4",
         "160.0",
         "36.26"
        ],
        [
         "25%",
         "34.0",
         "61.7",
         "167.0",
         "166.34500000000003"
        ],
        [
         "50%",
         "49.0",
         "75.5",
         "175.0",
         "199.45499999999998"
        ],
        [
         "75%",
         "65.0",
         "90.2",
         "183.0",
         "233.785"
        ],
        [
         "max",
         "79.0",
         "158.1",
         "190.0",
         "372.67"
        ]
       ],
       "shape": {
        "columns": 4,
        "rows": 8
       }
      },
      "text/html": [
       "<div>\n",
       "<style scoped>\n",
       "    .dataframe tbody tr th:only-of-type {\n",
       "        vertical-align: middle;\n",
       "    }\n",
       "\n",
       "    .dataframe tbody tr th {\n",
       "        vertical-align: top;\n",
       "    }\n",
       "\n",
       "    .dataframe thead th {\n",
       "        text-align: right;\n",
       "    }\n",
       "</style>\n",
       "<table border=\"1\" class=\"dataframe\">\n",
       "  <thead>\n",
       "    <tr style=\"text-align: right;\">\n",
       "      <th></th>\n",
       "      <th>idade</th>\n",
       "      <th>peso</th>\n",
       "      <th>altura</th>\n",
       "      <th>nivel_colesterol</th>\n",
       "    </tr>\n",
       "  </thead>\n",
       "  <tbody>\n",
       "    <tr>\n",
       "      <th>count</th>\n",
       "      <td>997.000000</td>\n",
       "      <td>997.000000</td>\n",
       "      <td>997.000000</td>\n",
       "      <td>1000.000000</td>\n",
       "    </tr>\n",
       "    <tr>\n",
       "      <th>mean</th>\n",
       "      <td>49.206620</td>\n",
       "      <td>76.496690</td>\n",
       "      <td>174.889669</td>\n",
       "      <td>199.453260</td>\n",
       "    </tr>\n",
       "    <tr>\n",
       "      <th>std</th>\n",
       "      <td>17.476704</td>\n",
       "      <td>21.439132</td>\n",
       "      <td>8.844703</td>\n",
       "      <td>50.625152</td>\n",
       "    </tr>\n",
       "    <tr>\n",
       "      <th>min</th>\n",
       "      <td>20.000000</td>\n",
       "      <td>15.400000</td>\n",
       "      <td>160.000000</td>\n",
       "      <td>36.260000</td>\n",
       "    </tr>\n",
       "    <tr>\n",
       "      <th>25%</th>\n",
       "      <td>34.000000</td>\n",
       "      <td>61.700000</td>\n",
       "      <td>167.000000</td>\n",
       "      <td>166.345000</td>\n",
       "    </tr>\n",
       "    <tr>\n",
       "      <th>50%</th>\n",
       "      <td>49.000000</td>\n",
       "      <td>75.500000</td>\n",
       "      <td>175.000000</td>\n",
       "      <td>199.455000</td>\n",
       "    </tr>\n",
       "    <tr>\n",
       "      <th>75%</th>\n",
       "      <td>65.000000</td>\n",
       "      <td>90.200000</td>\n",
       "      <td>183.000000</td>\n",
       "      <td>233.785000</td>\n",
       "    </tr>\n",
       "    <tr>\n",
       "      <th>max</th>\n",
       "      <td>79.000000</td>\n",
       "      <td>158.100000</td>\n",
       "      <td>190.000000</td>\n",
       "      <td>372.670000</td>\n",
       "    </tr>\n",
       "  </tbody>\n",
       "</table>\n",
       "</div>"
      ],
      "text/plain": [
       "            idade        peso      altura  nivel_colesterol\n",
       "count  997.000000  997.000000  997.000000       1000.000000\n",
       "mean    49.206620   76.496690  174.889669        199.453260\n",
       "std     17.476704   21.439132    8.844703         50.625152\n",
       "min     20.000000   15.400000  160.000000         36.260000\n",
       "25%     34.000000   61.700000  167.000000        166.345000\n",
       "50%     49.000000   75.500000  175.000000        199.455000\n",
       "75%     65.000000   90.200000  183.000000        233.785000\n",
       "max     79.000000  158.100000  190.000000        372.670000"
      ]
     },
     "execution_count": 10,
     "metadata": {},
     "output_type": "execute_result"
    }
   ],
   "source": [
    "# Analisar as medidas estatísticas do DF (variáveis numéricas)\n",
    "df_colesteral_eda.describe()"
   ]
  },
  {
   "cell_type": "code",
   "execution_count": 11,
   "id": "0336dfdb",
   "metadata": {},
   "outputs": [],
   "source": [
    "# Coletar medidas das variáveis categóricas --> Nesse caso a moda para variáveis categóricas\n",
    "moda_grupo_sanguineo = df_colesteral_eda.grupo_sanguineo.mode()\n",
    "moda_fumante = df_colesteral_eda.fumante.mode()\n",
    "moda_nivel_atividade_fisica = df_colesteral_eda.nivel_atividade_fisica.mode()"
   ]
  },
  {
   "cell_type": "code",
   "execution_count": 12,
   "id": "37ee1a95",
   "metadata": {},
   "outputs": [],
   "source": [
    "# Coletar as medianas para as variáveis numéricas\n",
    "mediana_idade = df_colesteral_eda.idade.median()\n",
    "mediana_peso = df_colesteral_eda.peso.median()\n",
    "mediana_altura = df_colesteral_eda.altura.median()"
   ]
  },
  {
   "cell_type": "code",
   "execution_count": 13,
   "id": "9c96f6cf",
   "metadata": {},
   "outputs": [],
   "source": [
    "# Inputar valores ausentes\n",
    "df_colesteral_eda.fillna(value={'grupo_sanguineo': moda_grupo_sanguineo[0], \n",
    "                                'fumante': moda_fumante[0],\n",
    "                                'nivel_atividade_fisica': moda_nivel_atividade_fisica[0],\n",
    "                                'idade': mediana_idade,\n",
    "                                'peso': mediana_peso,\n",
    "                                'altura': mediana_altura\n",
    "                                }, inplace=True)"
   ]
  },
  {
   "cell_type": "code",
   "execution_count": 14,
   "id": "0a98fb6e",
   "metadata": {},
   "outputs": [],
   "source": [
    "# Mudar tipo da variável -> float para inteiro -> colunas: idade e altura\n",
    "\n",
    "df_colesteral_eda.idade = df_colesteral_eda.idade.astype(int)\n",
    "df_colesteral_eda.altura = df_colesteral_eda.altura.astype(int)"
   ]
  },
  {
   "cell_type": "code",
   "execution_count": 15,
   "id": "013f3ffe",
   "metadata": {},
   "outputs": [
    {
     "name": "stdout",
     "output_type": "stream",
     "text": [
      "<class 'pandas.core.frame.DataFrame'>\n",
      "RangeIndex: 1000 entries, 0 to 999\n",
      "Data columns (total 7 columns):\n",
      " #   Column                  Non-Null Count  Dtype  \n",
      "---  ------                  --------------  -----  \n",
      " 0   grupo_sanguineo         1000 non-null   object \n",
      " 1   fumante                 1000 non-null   object \n",
      " 2   nivel_atividade_fisica  1000 non-null   object \n",
      " 3   idade                   1000 non-null   int64  \n",
      " 4   peso                    1000 non-null   float64\n",
      " 5   altura                  1000 non-null   int64  \n",
      " 6   nivel_colesterol        1000 non-null   float64\n",
      "dtypes: float64(2), int64(2), object(3)\n",
      "memory usage: 54.8+ KB\n"
     ]
    }
   ],
   "source": [
    "# Estrutura do dataframe\n",
    "df_colesteral_eda.info()"
   ]
  },
  {
   "cell_type": "code",
   "execution_count": 16,
   "id": "581a032a",
   "metadata": {},
   "outputs": [
    {
     "data": {
      "application/vnd.microsoft.datawrangler.viewer.v0+json": {
       "columns": [
        {
         "name": "index",
         "rawType": "int64",
         "type": "integer"
        },
        {
         "name": "grupo_sanguineo",
         "rawType": "object",
         "type": "string"
        },
        {
         "name": "fumante",
         "rawType": "object",
         "type": "string"
        },
        {
         "name": "nivel_atividade_fisica",
         "rawType": "object",
         "type": "string"
        },
        {
         "name": "idade",
         "rawType": "int64",
         "type": "integer"
        },
        {
         "name": "peso",
         "rawType": "float64",
         "type": "float"
        },
        {
         "name": "altura",
         "rawType": "int64",
         "type": "integer"
        },
        {
         "name": "nivel_colesterol",
         "rawType": "float64",
         "type": "float"
        }
       ],
       "ref": "549571be-1141-43e0-9ae1-56bc0e447ea1",
       "rows": [
        [
         "0",
         "B",
         "Sim",
         "Baixo",
         "33",
         "85.1",
         "186",
         "199.63"
        ],
        [
         "1",
         "A",
         "Não",
         "Moderado",
         "68",
         "105.0",
         "184",
         "236.98"
        ],
        [
         "2",
         "O",
         "Não",
         "Alto",
         "25",
         "64.8",
         "180",
         "161.79"
        ],
        [
         "3",
         "A",
         "Não",
         "Alto",
         "43",
         "120.2",
         "167",
         "336.24"
        ],
        [
         "4",
         "AB",
         "Não",
         "Baixo",
         "79",
         "88.5",
         "175",
         "226.23"
        ]
       ],
       "shape": {
        "columns": 7,
        "rows": 5
       }
      },
      "text/html": [
       "<div>\n",
       "<style scoped>\n",
       "    .dataframe tbody tr th:only-of-type {\n",
       "        vertical-align: middle;\n",
       "    }\n",
       "\n",
       "    .dataframe tbody tr th {\n",
       "        vertical-align: top;\n",
       "    }\n",
       "\n",
       "    .dataframe thead th {\n",
       "        text-align: right;\n",
       "    }\n",
       "</style>\n",
       "<table border=\"1\" class=\"dataframe\">\n",
       "  <thead>\n",
       "    <tr style=\"text-align: right;\">\n",
       "      <th></th>\n",
       "      <th>grupo_sanguineo</th>\n",
       "      <th>fumante</th>\n",
       "      <th>nivel_atividade_fisica</th>\n",
       "      <th>idade</th>\n",
       "      <th>peso</th>\n",
       "      <th>altura</th>\n",
       "      <th>nivel_colesterol</th>\n",
       "    </tr>\n",
       "  </thead>\n",
       "  <tbody>\n",
       "    <tr>\n",
       "      <th>0</th>\n",
       "      <td>B</td>\n",
       "      <td>Sim</td>\n",
       "      <td>Baixo</td>\n",
       "      <td>33</td>\n",
       "      <td>85.1</td>\n",
       "      <td>186</td>\n",
       "      <td>199.63</td>\n",
       "    </tr>\n",
       "    <tr>\n",
       "      <th>1</th>\n",
       "      <td>A</td>\n",
       "      <td>Não</td>\n",
       "      <td>Moderado</td>\n",
       "      <td>68</td>\n",
       "      <td>105.0</td>\n",
       "      <td>184</td>\n",
       "      <td>236.98</td>\n",
       "    </tr>\n",
       "    <tr>\n",
       "      <th>2</th>\n",
       "      <td>O</td>\n",
       "      <td>Não</td>\n",
       "      <td>Alto</td>\n",
       "      <td>25</td>\n",
       "      <td>64.8</td>\n",
       "      <td>180</td>\n",
       "      <td>161.79</td>\n",
       "    </tr>\n",
       "    <tr>\n",
       "      <th>3</th>\n",
       "      <td>A</td>\n",
       "      <td>Não</td>\n",
       "      <td>Alto</td>\n",
       "      <td>43</td>\n",
       "      <td>120.2</td>\n",
       "      <td>167</td>\n",
       "      <td>336.24</td>\n",
       "    </tr>\n",
       "    <tr>\n",
       "      <th>4</th>\n",
       "      <td>AB</td>\n",
       "      <td>Não</td>\n",
       "      <td>Baixo</td>\n",
       "      <td>79</td>\n",
       "      <td>88.5</td>\n",
       "      <td>175</td>\n",
       "      <td>226.23</td>\n",
       "    </tr>\n",
       "  </tbody>\n",
       "</table>\n",
       "</div>"
      ],
      "text/plain": [
       "  grupo_sanguineo fumante nivel_atividade_fisica  idade   peso  altura  \\\n",
       "0               B     Sim                  Baixo     33   85.1     186   \n",
       "1               A     Não               Moderado     68  105.0     184   \n",
       "2               O     Não                   Alto     25   64.8     180   \n",
       "3               A     Não                   Alto     43  120.2     167   \n",
       "4              AB     Não                  Baixo     79   88.5     175   \n",
       "\n",
       "   nivel_colesterol  \n",
       "0            199.63  \n",
       "1            236.98  \n",
       "2            161.79  \n",
       "3            336.24  \n",
       "4            226.23  "
      ]
     },
     "execution_count": 16,
     "metadata": {},
     "output_type": "execute_result"
    }
   ],
   "source": [
    "df_colesteral_eda.head()"
   ]
  },
  {
   "cell_type": "code",
   "execution_count": 17,
   "id": "a71306ea",
   "metadata": {},
   "outputs": [
    {
     "data": {
      "text/plain": [
       "<Axes: xlabel='idade'>"
      ]
     },
     "execution_count": 17,
     "metadata": {},
     "output_type": "execute_result"
    },
    {
     "data": {
      "image/png": "[encoded data removed]",
      "text/plain": [
       "<Figure size 640x480 with 1 Axes>"
      ]
     },
     "metadata": {},
     "output_type": "display_data"
    }
   ],
   "source": [
    "# Tratamento de Outliers - Verificando Idade\n",
    "sns.boxplot(data=df_colesteral_eda, x='idade')"
   ]
  },
  {
   "cell_type": "code",
   "execution_count": 18,
   "id": "abdca55d",
   "metadata": {},
   "outputs": [
    {
     "data": {
      "text/plain": [
       "<Axes: xlabel='peso'>"
      ]
     },
     "execution_count": 18,
     "metadata": {},
     "output_type": "execute_result"
    },
    {
     "data": {
      "image/png": "[encoded data removed]",
      "text/plain": [
       "<Figure size 640x480 with 1 Axes>"
      ]
     },
     "metadata": {},
     "output_type": "display_data"
    }
   ],
   "source": [
    "# Tratamento de Outliers - Verificando Peso\n",
    "sns.boxplot(data=df_colesteral_eda, x='peso')"
   ]
  },
  {
   "cell_type": "code",
   "execution_count": 19,
   "id": "44d7d94f",
   "metadata": {},
   "outputs": [
    {
     "data": {
      "text/plain": [
       "np.int64(37)"
      ]
     },
     "execution_count": 19,
     "metadata": {},
     "output_type": "execute_result"
    }
   ],
   "source": [
    "# Remover outliers cujo peso é muito baixo\n",
    "# Filtrar o público a ser removido => peso < 40kg\n",
    "df_colesteral_eda[df_colesteral_eda['peso'] <  40].peso.count()"
   ]
  },
  {
   "cell_type": "code",
   "execution_count": 20,
   "id": "4ea53ce3",
   "metadata": {},
   "outputs": [],
   "source": [
    "# Remover publico do Dataframe\n",
    "df_colesteral_eda.drop(df_colesteral_eda[df_colesteral_eda['peso'] <  40].index, axis=0, inplace=True)"
   ]
  },
  {
   "cell_type": "code",
   "execution_count": 21,
   "id": "f83b6025",
   "metadata": {},
   "outputs": [
    {
     "data": {
      "text/plain": [
       "<Axes: xlabel='altura'>"
      ]
     },
     "execution_count": 21,
     "metadata": {},
     "output_type": "execute_result"
    },
    {
     "data": {
      "image/png": "[encoded data removed]",
      "text/plain": [
       "<Figure size 640x480 with 1 Axes>"
      ]
     },
     "metadata": {},
     "output_type": "display_data"
    }
   ],
   "source": [
    "# Tratamento de Outliers - Verificando Altura\n",
    "sns.boxplot(data=df_colesteral_eda, x='altura')"
   ]
  },
  {
   "cell_type": "code",
   "execution_count": 22,
   "id": "a502f5ee",
   "metadata": {},
   "outputs": [
    {
     "data": {
      "text/plain": [
       "<Axes: xlabel='nivel_colesterol'>"
      ]
     },
     "execution_count": 22,
     "metadata": {},
     "output_type": "execute_result"
    },
    {
     "data": {
      "image/png": "[encoded data removed]",
      "text/plain": [
       "<Figure size 640x480 with 1 Axes>"
      ]
     },
     "metadata": {},
     "output_type": "display_data"
    }
   ],
   "source": [
    "# Tratamento de Outliers - Verificando Nivel colesterol\n",
    "sns.boxplot(data=df_colesteral_eda, x='nivel_colesterol')"
   ]
  },
  {
   "cell_type": "code",
   "execution_count": 24,
   "id": "e90132c2",
   "metadata": {},
   "outputs": [
    {
     "data": {
      "text/plain": [
       "<Axes: xlabel='grupo_sanguineo', ylabel='nivel_colesterol'>"
      ]
     },
     "execution_count": 24,
     "metadata": {},
     "output_type": "execute_result"
    },
    {
     "data": {
      "image/png": "[encoded data removed]",
      "text/plain": [
       "<Figure size 640x480 with 1 Axes>"
      ]
     },
     "metadata": {},
     "output_type": "display_data"
    }
   ],
   "source": [
    "# Cruzamento de Variáveis categóricas com nível de colesterol\n",
    "sns.boxplot(data=df_colesteral_eda, x='grupo_sanguineo', y='nivel_colesterol')"
   ]
  },
  {
   "cell_type": "code",
   "execution_count": 25,
   "id": "e624e459",
   "metadata": {},
   "outputs": [
    {
     "data": {
      "text/plain": [
       "<Axes: xlabel='fumante', ylabel='nivel_colesterol'>"
      ]
     },
     "execution_count": 25,
     "metadata": {},
     "output_type": "execute_result"
    },
    {
     "data": {
      "image/png": "[encoded data removed]",
      "text/plain": [
       "<Figure size 640x480 with 1 Axes>"
      ]
     },
     "metadata": {},
     "output_type": "display_data"
    }
   ],
   "source": [
    "# Cruzamento de Variáveis categóricas com nível de colesterol\n",
    "sns.boxplot(data=df_colesteral_eda, x='fumante', y='nivel_colesterol')"
   ]
  },
  {
   "cell_type": "code",
   "execution_count": 26,
   "id": "969c50d4",
   "metadata": {},
   "outputs": [
    {
     "data": {
      "text/plain": [
       "<Axes: xlabel='nivel_atividade_fisica', ylabel='nivel_colesterol'>"
      ]
     },
     "execution_count": 26,
     "metadata": {},
     "output_type": "execute_result"
    },
    {
     "data": {
      "image/png": "[encoded data removed]",
      "text/plain": [
       "<Figure size 640x480 with 1 Axes>"
      ]
     },
     "metadata": {},
     "output_type": "display_data"
    }
   ],
   "source": [
    "# Cruzamento de Variáveis categóricas com nível de colesterol\n",
    "sns.boxplot(data=df_colesteral_eda, x='nivel_atividade_fisica', y='nivel_colesterol')"
   ]
  },
  {
   "cell_type": "code",
   "execution_count": null,
   "id": "64c9a81e",
   "metadata": {},
   "outputs": [],
   "source": []
  }
 ],
 "metadata": {
  "kernelspec": {
   "display_name": "009_regressao_linear_multipla-oLDbs-bz",
   "language": "python",
   "name": "python3"
  },
  "language_info": {
   "codemirror_mode": {
    "name": "ipython",
    "version": 3
   },
   "file_extension": ".py",
   "mimetype": "text/x-python",
   "name": "python",
   "nbconvert_exporter": "python",
   "pygments_lexer": "ipython3",
   "version": "3.11.9"
  }
 },
 "nbformat": 4,
 "nbformat_minor": 5
}
